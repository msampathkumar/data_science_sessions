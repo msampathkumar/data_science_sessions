{
 "cells": [
  {
   "cell_type": "markdown",
   "metadata": {},
   "source": [
    "\n",
    "# PSSH - Parallel SSH (Secure Shell)\n",
    "\n",
    "PSSH is a one the quick and easy tools that I use to execute several basic commands like `hostname, ls, python -V, uptime` for monitoring, copying and clearing (basic os admin stuff)\n",
    "\n",
    "When you have a not too large and not too small architectures, these kind of tools comes in hand to build quick tools."
   ]
  },
  {
   "cell_type": "markdown",
   "metadata": {},
   "source": [
    "## Installing parallel-ssh"
   ]
  },
  {
   "cell_type": "code",
   "execution_count": null,
   "metadata": {
    "collapsed": true
   },
   "outputs": [],
   "source": [
    "!pip install parallel-ssh"
   ]
  },
  {
   "cell_type": "markdown",
   "metadata": {},
   "source": [
    "### Imports"
   ]
  },
  {
   "cell_type": "code",
   "execution_count": null,
   "metadata": {
    "collapsed": true
   },
   "outputs": [],
   "source": [
    "from pprint import pprint\n",
    "from pssh.pssh_client import ParallelSSHClient"
   ]
  },
  {
   "cell_type": "markdown",
   "metadata": {},
   "source": [
    "### List of Hosts"
   ]
  },
  {
   "cell_type": "code",
   "execution_count": null,
   "metadata": {
    "collapsed": true
   },
   "outputs": [],
   "source": [
    "# stored all the host ips in one file\n",
    "fname = '/Users/sampathm/devbox/pssh-hosts'"
   ]
  },
  {
   "cell_type": "code",
   "execution_count": null,
   "metadata": {
    "collapsed": true
   },
   "outputs": [],
   "source": [
    "hosts = open(fname).read().split()\n",
    "print(hosts)\n",
    "\n",
    "# # sample output # #\n",
    "# ['172.16.13.17',\n",
    "#  '172.16.13.68',\n",
    "#  '172.16.13.70']"
   ]
  },
  {
   "cell_type": "markdown",
   "metadata": {},
   "source": [
    "### Configuration"
   ]
  },
  {
   "cell_type": "code",
   "execution_count": null,
   "metadata": {
    "collapsed": true
   },
   "outputs": [],
   "source": [
    "# configure our client to do work\n",
    "client = ParallelSSHClient(slave_hosts)\n",
    "\n",
    "# credentials\n",
    "client.user = 'hadoop-user'\n",
    "client.password = 'hadoop-user-2q7r1z$3'"
   ]
  },
  {
   "cell_type": "markdown",
   "metadata": {},
   "source": [
    "### Execution"
   ]
  },
  {
   "cell_type": "code",
   "execution_count": null,
   "metadata": {
    "collapsed": true
   },
   "outputs": [],
   "source": [
    "output = client.run_command('hostname')\n",
    "\n",
    "for host in output:\n",
    "    for line in output[host].stdout:\n",
    "        try:\n",
    "            print(\"Host %s \\t Output: %s\" % (host, line))\n",
    "        except:\n",
    "            print(\"---\" * 12, host)"
   ]
  }
 ],
 "metadata": {
  "kernelspec": {
   "display_name": "Python 3",
   "language": "python",
   "name": "python3"
  },
  "language_info": {
   "codemirror_mode": {
    "name": "ipython",
    "version": 3
   },
   "file_extension": ".py",
   "mimetype": "text/x-python",
   "name": "python",
   "nbconvert_exporter": "python",
   "pygments_lexer": "ipython3",
   "version": "3.6.1"
  }
 },
 "nbformat": 4,
 "nbformat_minor": 2
}
