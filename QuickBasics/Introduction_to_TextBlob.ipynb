{
 "cells": [
  {
   "cell_type": "markdown",
   "metadata": {},
   "source": [
    "## TextBlob\n",
    "\n",
    "Simple, Pythonic, text processing--Sentiment analysis, part-of-speech tagging, noun phrase extraction, translation, and more. https://textblob.readthedocs.io/\n",
    "\n",
    "GitHub Link: https://github.com/sloria/TextBlob"
   ]
  },
  {
   "cell_type": "code",
   "execution_count": 1,
   "metadata": {},
   "outputs": [
    {
     "name": "stdout",
     "output_type": "stream",
     "text": [
      "Collecting TextBlob\n",
      "  Downloading textblob-0.13.0-py2.py3-none-any.whl (631kB)\n",
      "\u001b[K    100% |████████████████████████████████| 634kB 678kB/s ta 0:00:01\n",
      "\u001b[?25hRequirement already up-to-date: nltk>=3.1 in /Users/sampathm/miniconda3/lib/python3.6/site-packages (from TextBlob)\n",
      "Collecting six (from nltk>=3.1->TextBlob)\n",
      "  Downloading six-1.11.0-py2.py3-none-any.whl\n",
      "Installing collected packages: TextBlob, six\n",
      "  Found existing installation: six 1.10.0\n",
      "\u001b[31m    DEPRECATION: Uninstalling a distutils installed project (six) has been deprecated and will be removed in a future version. This is due to the fact that uninstalling a distutils project will only partially uninstall the project.\u001b[0m\n",
      "    Uninstalling six-1.10.0:\n",
      "      Successfully uninstalled six-1.10.0\n",
      "Successfully installed TextBlob-0.13.0 six-1.11.0\n"
     ]
    }
   ],
   "source": [
    "!pip install -U TextBlob"
   ]
  },
  {
   "cell_type": "code",
   "execution_count": 2,
   "metadata": {
    "scrolled": true
   },
   "outputs": [
    {
     "name": "stdout",
     "output_type": "stream",
     "text": [
      "[nltk_data] Downloading package brown to /Users/sampathm/nltk_data...\n",
      "[nltk_data]   Package brown is already up-to-date!\n",
      "[nltk_data] Downloading package punkt to /Users/sampathm/nltk_data...\n",
      "[nltk_data]   Package punkt is already up-to-date!\n",
      "[nltk_data] Downloading package wordnet to\n",
      "[nltk_data]     /Users/sampathm/nltk_data...\n",
      "[nltk_data]   Package wordnet is already up-to-date!\n",
      "[nltk_data] Downloading package averaged_perceptron_tagger to\n",
      "[nltk_data]     /Users/sampathm/nltk_data...\n",
      "[nltk_data]   Package averaged_perceptron_tagger is already up-to-\n",
      "[nltk_data]       date!\n",
      "[nltk_data] Downloading package conll2000 to\n",
      "[nltk_data]     /Users/sampathm/nltk_data...\n",
      "[nltk_data]   Package conll2000 is already up-to-date!\n",
      "[nltk_data] Downloading package movie_reviews to\n",
      "[nltk_data]     /Users/sampathm/nltk_data...\n",
      "[nltk_data]   Package movie_reviews is already up-to-date!\n",
      "Finished.\n"
     ]
    }
   ],
   "source": [
    "!python -m textblob.download_corpora"
   ]
  },
  {
   "cell_type": "code",
   "execution_count": 3,
   "metadata": {
    "collapsed": true
   },
   "outputs": [],
   "source": [
    "from textblob import TextBlob"
   ]
  },
  {
   "cell_type": "code",
   "execution_count": 4,
   "metadata": {
    "collapsed": true
   },
   "outputs": [],
   "source": [
    "sample_text = 'Welcome to TextBlob! TextBlob is a Python (2 and 3) library for processing textual data. It provides a simple API for diving into common natural language processing (NLP) tasks such as part-of-speech tagging, noun phrase extraction, sentiment analysis, classification, translation, and more.'"
   ]
  },
  {
   "cell_type": "code",
   "execution_count": 5,
   "metadata": {
    "collapsed": true
   },
   "outputs": [],
   "source": [
    "blob = TextBlob(sample_text)"
   ]
  },
  {
   "cell_type": "code",
   "execution_count": 8,
   "metadata": {},
   "outputs": [
    {
     "data": {
      "text/plain": [
       "WordList(['Welcome', 'to', 'TextBlob', 'TextBlob', 'is', 'a', 'Python', '2', 'and', '3', 'library', 'for', 'processing', 'textual', 'data', 'It', 'provides', 'a', 'simple', 'API', 'for', 'diving', 'into', 'common', 'natural', 'language', 'processing', 'NLP', 'tasks', 'such', 'as', 'part-of-speech', 'tagging', 'noun', 'phrase', 'extraction', 'sentiment', 'analysis', 'classification', 'translation', 'and', 'more'])"
      ]
     },
     "execution_count": 8,
     "metadata": {},
     "output_type": "execute_result"
    }
   ],
   "source": [
    "# lets check what all tokens it has\n",
    "blob.words"
   ]
  },
  {
   "cell_type": "code",
   "execution_count": 7,
   "metadata": {},
   "outputs": [
    {
     "data": {
      "text/plain": [
       "defaultdict(int,\n",
       "            {'2': 1,\n",
       "             '3': 1,\n",
       "             'a': 2,\n",
       "             'analysis': 1,\n",
       "             'and': 2,\n",
       "             'api': 1,\n",
       "             'as': 1,\n",
       "             'classification': 1,\n",
       "             'common': 1,\n",
       "             'data': 1,\n",
       "             'diving': 1,\n",
       "             'extraction': 1,\n",
       "             'for': 2,\n",
       "             'into': 1,\n",
       "             'is': 1,\n",
       "             'it': 1,\n",
       "             'language': 1,\n",
       "             'library': 1,\n",
       "             'more': 1,\n",
       "             'natural': 1,\n",
       "             'nlp': 1,\n",
       "             'noun': 1,\n",
       "             'part-of-speech': 1,\n",
       "             'phrase': 1,\n",
       "             'processing': 2,\n",
       "             'provides': 1,\n",
       "             'python': 1,\n",
       "             'sentiment': 1,\n",
       "             'simple': 1,\n",
       "             'such': 1,\n",
       "             'tagging': 1,\n",
       "             'tasks': 1,\n",
       "             'textblob': 2,\n",
       "             'textual': 1,\n",
       "             'to': 1,\n",
       "             'translation': 1,\n",
       "             'welcome': 1})"
      ]
     },
     "execution_count": 7,
     "metadata": {},
     "output_type": "execute_result"
    }
   ],
   "source": [
    "blob.word_counts"
   ]
  },
  {
   "cell_type": "code",
   "execution_count": 9,
   "metadata": {},
   "outputs": [
    {
     "data": {
      "text/plain": [
       "[('Welcome', 'VB'),\n",
       " ('to', 'TO'),\n",
       " ('TextBlob', 'VB'),\n",
       " ('TextBlob', 'NNP'),\n",
       " ('is', 'VBZ'),\n",
       " ('a', 'DT'),\n",
       " ('Python', 'NNP'),\n",
       " ('2', 'CD'),\n",
       " ('and', 'CC'),\n",
       " ('3', 'CD'),\n",
       " ('library', 'NN'),\n",
       " ('for', 'IN'),\n",
       " ('processing', 'VBG'),\n",
       " ('textual', 'JJ'),\n",
       " ('data', 'NNS'),\n",
       " ('It', 'PRP'),\n",
       " ('provides', 'VBZ'),\n",
       " ('a', 'DT'),\n",
       " ('simple', 'JJ'),\n",
       " ('API', 'NNP'),\n",
       " ('for', 'IN'),\n",
       " ('diving', 'VBG'),\n",
       " ('into', 'IN'),\n",
       " ('common', 'JJ'),\n",
       " ('natural', 'JJ'),\n",
       " ('language', 'NN'),\n",
       " ('processing', 'NN'),\n",
       " ('NLP', 'NNP'),\n",
       " ('tasks', 'NNS'),\n",
       " ('such', 'JJ'),\n",
       " ('as', 'IN'),\n",
       " ('part-of-speech', 'JJ'),\n",
       " ('tagging', 'NN'),\n",
       " ('noun', 'JJ'),\n",
       " ('phrase', 'NN'),\n",
       " ('extraction', 'NN'),\n",
       " ('sentiment', 'NN'),\n",
       " ('analysis', 'NN'),\n",
       " ('classification', 'NN'),\n",
       " ('translation', 'NN'),\n",
       " ('and', 'CC'),\n",
       " ('more', 'JJR')]"
      ]
     },
     "execution_count": 9,
     "metadata": {},
     "output_type": "execute_result"
    }
   ],
   "source": [
    "blob.tags"
   ]
  },
  {
   "cell_type": "code",
   "execution_count": 10,
   "metadata": {},
   "outputs": [
    {
     "data": {
      "text/plain": [
       "Sentiment(polarity=0.21666666666666665, subjectivity=0.5261904761904762)"
      ]
     },
     "execution_count": 10,
     "metadata": {},
     "output_type": "execute_result"
    }
   ],
   "source": [
    "blob.sentiment"
   ]
  },
  {
   "cell_type": "code",
   "execution_count": 11,
   "metadata": {},
   "outputs": [
    {
     "data": {
      "text/plain": [
       "TextBlob(\"Welcome to TextBlob! TextBlob is a Python (2 and 3) library for processing texture data. It provides a simple API for diving into common natural language processing (NLP) tasks such as part-of-speech lagging, noun phrase extraction, sentiment analysis, classification, translation, and more.\")"
      ]
     },
     "execution_count": 11,
     "metadata": {},
     "output_type": "execute_result"
    }
   ],
   "source": [
    "# Text-Correction - Spell check\n",
    "blob.correct()"
   ]
  },
  {
   "cell_type": "code",
   "execution_count": 12,
   "metadata": {},
   "outputs": [
    {
     "name": "stdout",
     "output_type": "stream",
     "text": [
      "Welcome to TextBlob! TextBlob is a Python (2 and 3) library for processing textual data. It provides a simple API for diving into common natural language processing (NLP) tasks such as part-of-speech tagging, noun phrase extraction, sentiment analysis, classification, translation, and more.\n"
     ]
    }
   ],
   "source": [
    "print(sample_text)"
   ]
  },
  {
   "cell_type": "code",
   "execution_count": 13,
   "metadata": {},
   "outputs": [
    {
     "data": {
      "text/plain": [
       "'Welcome/NNP/B-NP/O to/TO/B-PP/B-PNP TextBlob/NN/B-NP/I-PNP !/./O/O\\nTextBlob/NN/B-NP/O is/VBZ/B-VP/O a/DT/B-NP/O Python/NNP/I-NP/O (/(/O/O 2/IN/B-PP/O and/CC/O/O 3/CD/O/O )/)/O/O library/NN/B-NP/O for/IN/B-PP/B-PNP processing/NN/B-NP/I-PNP textual/JJ/I-NP/I-PNP data/NNS/I-NP/I-PNP ././O/O\\nIt/PRP/B-NP/O provides/VBZ/B-VP/O a/DT/B-NP/O simple/JJ/I-NP/O API/NNP/I-NP/O for/IN/B-PP/B-PNP diving/VBG/B-VP/I-PNP into/IN/B-PP/B-PNP common/JJ/B-NP/I-PNP natural/JJ/I-NP/I-PNP language/NN/I-NP/I-PNP processing/NN/I-NP/I-PNP (/(/O/O NLP/NN/B-NP/O )/)/O/O tasks/NNS/B-NP/O such/JJ/B-ADJP/O as/IN/B-PP/O part-of-speech/JJ/B-ADJP/O tagging/VBG/B-VP/O ,/,/O/O noun/NN/B-NP/O phrase/NN/I-NP/O extraction/NN/I-NP/O ,/,/O/O sentiment/NN/B-NP/O analysis/NN/I-NP/O ,/,/O/O classification/NN/B-NP/O ,/,/O/O translation/NN/B-NP/O ,/,/O/O and/CC/O/O more/JJR/B-ADJP/O ././O/O'"
      ]
     },
     "execution_count": 13,
     "metadata": {},
     "output_type": "execute_result"
    }
   ],
   "source": [
    "blob.parse()"
   ]
  },
  {
   "cell_type": "code",
   "execution_count": 14,
   "metadata": {},
   "outputs": [
    {
     "data": {
      "text/plain": [
       "TextBlob(\"欢迎来到TextBlob！ TextBlob是一个用于处理文本数据的Python（2和3）库。它提供了一个简单的API，用于潜入常见的自然语言处理（NLP）任务，如词性标注，名词短语提取，情感分析，分类，翻译等。\")"
      ]
     },
     "execution_count": 14,
     "metadata": {},
     "output_type": "execute_result"
    }
   ],
   "source": [
    "blob.translate(to=\"zh\")"
   ]
  },
  {
   "cell_type": "markdown",
   "metadata": {},
   "source": [
    "To learn more from example\n",
    "\n",
    "* https://textblob.readthedocs.io/en/dev/quickstart.html\n",
    "* https://textblob.readthedocs.io/en/dev/classifiers.html#classifiers"
   ]
  }
 ],
 "metadata": {
  "kernelspec": {
   "display_name": "Python 3",
   "language": "python",
   "name": "python3"
  },
  "language_info": {
   "codemirror_mode": {
    "name": "ipython",
    "version": 3
   },
   "file_extension": ".py",
   "mimetype": "text/x-python",
   "name": "python",
   "nbconvert_exporter": "python",
   "pygments_lexer": "ipython3",
   "version": "3.6.1"
  }
 },
 "nbformat": 4,
 "nbformat_minor": 2
}
