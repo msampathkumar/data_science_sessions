{
 "cells": [
  {
   "cell_type": "markdown",
   "metadata": {},
   "source": [
    "# linked list\n",
    "\n",
    "_Implement a simple linked list with following basic operations_\n",
    "\n",
    "* print\n",
    "* push\n",
    "* pop\n",
    "* append\n"
   ]
  },
  {
   "cell_type": "code",
   "execution_count": 1,
   "metadata": {
    "collapsed": true
   },
   "outputs": [],
   "source": [
    "class Node:\n",
    "    def __init__(self, value: int):\n",
    "#         print('push elem', value)\n",
    "        self.value = value\n",
    "        self.next = None\n",
    "        \n",
    "    def __repr__(self):\n",
    "        is_next = False\n",
    "        if self.next:\n",
    "            is_next = True\n",
    "#             return '<Node val(%s) know(%s)>' % (self.value, id(self.next))\n",
    "            return '<Node val(%s) know(%s)>' % (self.value, self.next.value)\n",
    "        return '<Node val(%s)>' % (self.value)\n",
    "    \n",
    "    def copy(self):\n",
    "        return Node(self.value)"
   ]
  },
  {
   "cell_type": "code",
   "execution_count": 12,
   "metadata": {
    "collapsed": true
   },
   "outputs": [],
   "source": [
    "class LinkedList:\n",
    "    def __init__(self):\n",
    "        self.head = None\n",
    "        \n",
    "    def push(self, value: int):\n",
    "        \"Put new value in the first\"\n",
    "        tmp = Node(value)\n",
    "        if not self.head:\n",
    "            self.head = tmp\n",
    "        else:\n",
    "            tmp.next = self.head\n",
    "            self.head = tmp\n",
    "\n",
    "    def pop(self):\n",
    "        \"Give the first value out\"\n",
    "        if self.head:\n",
    "            tmp = self.head.value\n",
    "            self.head = self.head.next\n",
    "            return tmp\n",
    "        \n",
    "    def append(self, value):\n",
    "        \"Put the new value in the last\"\n",
    "        tmp = Node(value)\n",
    "        if not self.head:\n",
    "            self.head = tmp\n",
    "        else:\n",
    "            last = self.head\n",
    "            while last.next:\n",
    "                last = last.next\n",
    "            last.next = tmp\n",
    "        \n",
    "    def first(self):\n",
    "        \"give the first value in the list\"\n",
    "        pass\n",
    "        \n",
    "    def last(self):\n",
    "        \"give the first value in the list\"\n",
    "        pass\n",
    "    \n",
    "    def print(self):\n",
    "        tmp = self.head\n",
    "        ct = 0\n",
    "        print('=' * 8)\n",
    "        while tmp:\n",
    "            print(' ', tmp.value)\n",
    "            ct += 1\n",
    "            tmp = tmp.next\n",
    "        print('=' * 8, 'tot elems', ct)\n",
    "        \n",
    "    def delete(self, value):\n",
    "        first = self.head\n",
    "        if first and first.value == value:\n",
    "            self.head = self.head.next\n",
    "            print('deleted !', value)\n",
    "            return\n",
    "        while first.next:\n",
    "            if first.next.value == value:\n",
    "                first.next = first.next.next\n",
    "                print('deleted !', value)\n",
    "                return\n",
    "            first = first.next\n",
    "            \n",
    "    def position(self, pos, d=False):\n",
    "        tmp = self.head\n",
    "        ct = 0\n",
    "        while tmp:\n",
    "            if ct == pos:\n",
    "                return tmp.value\n",
    "            ct += 1\n",
    "            tmp = tmp.next\n",
    "            \n",
    "    def del_position(self, pos):\n",
    "        tmp = self.head\n",
    "        ct = 0\n",
    "        if pos == 0:\n",
    "            self.head = self.head.next\n",
    "        \n",
    "        print('\\t')\n",
    "        while tmp.next:\n",
    "            ct += 1\n",
    "            if ct == pos:\n",
    "                print('\\t->', tmp.next.value)\n",
    "                tmp.next = tmp.next.next\n",
    "                return\n"
   ]
  },
  {
   "cell_type": "code",
   "execution_count": 13,
   "metadata": {},
   "outputs": [
    {
     "name": "stdout",
     "output_type": "stream",
     "text": [
      "========\n",
      "  10\n",
      "  11\n",
      "  12\n",
      "======== tot elems 3\n"
     ]
    }
   ],
   "source": [
    "ll = LinkedList()\n",
    "ll.push(12)\n",
    "ll.push(11)\n",
    "ll.push(10)\n",
    "\n",
    "ll.print()\n",
    "\n",
    "assert ll.position(1) == 11\n",
    "assert ll.position(0) == 10\n",
    "assert ll.position(2) == 12\n",
    "assert ll.position(3) == None"
   ]
  },
  {
   "cell_type": "code",
   "execution_count": 14,
   "metadata": {},
   "outputs": [
    {
     "data": {
      "text/plain": [
       "13"
      ]
     },
     "execution_count": 14,
     "metadata": {},
     "output_type": "execute_result"
    }
   ],
   "source": [
    "ll.append(13)\n",
    "assert ll.position(3) == 13\n",
    "ll.position(3)"
   ]
  },
  {
   "cell_type": "code",
   "execution_count": 15,
   "metadata": {},
   "outputs": [
    {
     "name": "stdout",
     "output_type": "stream",
     "text": [
      "========\n",
      "  12\n",
      "  13\n",
      "  14\n",
      "  15\n",
      "  16\n",
      "  17\n",
      "======== tot elems 6\n"
     ]
    }
   ],
   "source": [
    "ll = LinkedList()\n",
    "\n",
    "ll.append(12)\n",
    "ll.append(13)\n",
    "ll.append(14)\n",
    "ll.append(15)\n",
    "ll.append(16)\n",
    "ll.append(17)\n",
    "\n",
    "ll.print()"
   ]
  },
  {
   "cell_type": "code",
   "execution_count": 16,
   "metadata": {},
   "outputs": [
    {
     "name": "stdout",
     "output_type": "stream",
     "text": [
      "\t\n",
      "\t-> 13\n"
     ]
    }
   ],
   "source": [
    "ll.del_position(4)"
   ]
  },
  {
   "cell_type": "code",
   "execution_count": 17,
   "metadata": {},
   "outputs": [
    {
     "name": "stdout",
     "output_type": "stream",
     "text": [
      "========\n",
      "  12\n",
      "  14\n",
      "  15\n",
      "  16\n",
      "  17\n",
      "======== tot elems 5\n"
     ]
    }
   ],
   "source": [
    "ll.print()\n",
    "assert ll.position(1) == 14"
   ]
  },
  {
   "cell_type": "code",
   "execution_count": 18,
   "metadata": {},
   "outputs": [
    {
     "name": "stdout",
     "output_type": "stream",
     "text": [
      "deleted ! 12\n",
      "========\n",
      "  14\n",
      "  15\n",
      "  16\n",
      "  17\n",
      "======== tot elems 4\n"
     ]
    }
   ],
   "source": [
    "ll.delete(12)\n",
    "\n",
    "ll.print()"
   ]
  },
  {
   "cell_type": "code",
   "execution_count": 19,
   "metadata": {},
   "outputs": [
    {
     "name": "stdout",
     "output_type": "stream",
     "text": [
      "deleted ! 14\n",
      "========\n",
      "  15\n",
      "  16\n",
      "  17\n",
      "======== tot elems 3\n"
     ]
    }
   ],
   "source": [
    "ll.delete(14)\n",
    "\n",
    "assert ll.position(0) == 15\n",
    "\n",
    "ll.print()"
   ]
  },
  {
   "cell_type": "code",
   "execution_count": 20,
   "metadata": {},
   "outputs": [
    {
     "name": "stdout",
     "output_type": "stream",
     "text": [
      "deleted ! 17\n",
      "========\n",
      "  15\n",
      "  16\n",
      "======== tot elems 2\n"
     ]
    }
   ],
   "source": [
    "ll.delete(17)\n",
    "\n",
    "ll.print()"
   ]
  },
  {
   "cell_type": "markdown",
   "metadata": {},
   "source": [
    "## Linked List\n",
    "\n",
    "Swap adjuscent elements with 1 unit gaps. like swap 1,2 and 3,4 and 5, 6 and so,..\n",
    "\n",
    "```\n",
    "* Inputs: 1, 2,     3, 4,    5, 6, ...\n",
    "* Exp. Output: 2, 1,     4, 3,    6, 5, ...\n",
    "```"
   ]
  },
  {
   "cell_type": "code",
   "execution_count": 21,
   "metadata": {
    "collapsed": true
   },
   "outputs": [],
   "source": [
    "class NewLinkedList(LinkedList):\n",
    "    def custom_swap_values(self):\n",
    "        first = self.head\n",
    "        second = self.head.next\n",
    "        while first and second:\n",
    "            first.value, second.value  = second.value, first.value\n",
    "            try:\n",
    "                first = first.next.next\n",
    "                second = second.next.next\n",
    "            except AttributeError:\n",
    "                break\n",
    "\n",
    "    def custom_swap_nodes(self):\n",
    "        if not (self.head and self.head.next):\n",
    "            return\n",
    "        # adding a temp node.\n",
    "        temp_node = Node(-1)\n",
    "        temp_node.next = self.head\n",
    "        self.head = temp_node\n",
    "        # zero -> first -> second -> third\n",
    "        zero_node = temp_node # just created\n",
    "        \n",
    "        ct = 0\n",
    "        \n",
    "        while zero_node.next and zero_node.next.next:\n",
    "            if ct < 5:\n",
    "                ct += 1\n",
    "            else:\n",
    "                break\n",
    "            # zero -> first -> second -> third\n",
    "            first_node = zero_node.next # required\n",
    "            second_node = zero_node.next.next # required\n",
    "            third_node = zero_node.next.next.next # can be null\n",
    "            # print(zero_node, first_node, second_node, third_node)\n",
    "            # zero -> second\n",
    "            zero_node.next = second_node\n",
    "            second_node.next = first_node\n",
    "            first_node.next = third_node\n",
    "            # next iteration\n",
    "            zero_node = zero_node.next.next\n",
    "        \n",
    "        self.head = self.head.next\n",
    "            "
   ]
  },
  {
   "cell_type": "code",
   "execution_count": 22,
   "metadata": {
    "scrolled": true
   },
   "outputs": [
    {
     "name": "stdout",
     "output_type": "stream",
     "text": [
      "========\n",
      "  1\n",
      "  2\n",
      "  3\n",
      "  4\n",
      "  5\n",
      "  6\n",
      "  7\n",
      "  8\n",
      "======== tot elems 8\n",
      "========\n",
      "  2\n",
      "  1\n",
      "  4\n",
      "  3\n",
      "  6\n",
      "  5\n",
      "  8\n",
      "  7\n",
      "======== tot elems 8\n"
     ]
    }
   ],
   "source": [
    "ll = NewLinkedList()\n",
    "\n",
    "for i in range(1, 9):\n",
    "    ll.append(i)\n",
    "\n",
    "ll.print()\n",
    "ll.custom_swap_nodes()\n",
    "# print('--' * 5)\n",
    "ll.print()"
   ]
  },
  {
   "cell_type": "markdown",
   "metadata": {
    "collapsed": true
   },
   "source": [
    "## MergeSort Linked List"
   ]
  },
  {
   "cell_type": "code",
   "execution_count": 23,
   "metadata": {},
   "outputs": [
    {
     "name": "stdout",
     "output_type": "stream",
     "text": [
      "========\n",
      "  5\n",
      "  4\n",
      "  3\n",
      "  2\n",
      "  1\n",
      "======== tot elems 5\n"
     ]
    }
   ],
   "source": [
    "ll = LinkedList()\n",
    "\n",
    "ll.append(5)\n",
    "ll.append(4)\n",
    "ll.append(3)\n",
    "ll.append(2)\n",
    "ll.append(1)\n",
    "# ll.append(11)\n",
    "# ll.append(12)\n",
    "# ll.append(14)\n",
    "# ll.append(15)\n",
    "ll.print()"
   ]
  },
  {
   "cell_type": "code",
   "execution_count": 25,
   "metadata": {
    "collapsed": true
   },
   "outputs": [],
   "source": [
    "def ll_merge_sort(head_node):\n",
    "    print('---' * 5)\n",
    "    ct = 0\n",
    "    node1 = head_node\n",
    "\n",
    "    # check length\n",
    "    while node1:\n",
    "        ct += 1\n",
    "        node1 = node1.next\n",
    "    \n",
    "    # single node ll is always sorted by itself\n",
    "    if ct < 2:\n",
    "        return head_node\n",
    "\n",
    "    # splitting nodes if more nodes are there\n",
    "    node1 = head_node\n",
    "    tmp = head_node\n",
    "    for i in range(ct -1):\n",
    "        tmp = tmp.next\n",
    "    node2 = tmp.next\n",
    "    tmp.next = None\n",
    "\n",
    "    # sorting\n",
    "    new_nodes = None\n",
    "    while node1 or node2:\n",
    "        if node1.value > node2.value:\n",
    "            if not new_nodes:\n",
    "                new_nodes = node1\n",
    "                tmp = new_nodes\n",
    "            else:\n",
    "                tmp.next = node1\n",
    "                node1 = node1.next\n",
    "        else:\n",
    "            if not new_nodes:\n",
    "                new_nodes = node2\n",
    "                tmp = new_nodes\n",
    "            else:\n",
    "                tmp.next = node2\n",
    "                node2 = node2.next\n",
    "                \n",
    "    if node1 == None:\n",
    "        node1 = node2\n",
    "    \n",
    "    tmp.next = node1\n",
    "    \n",
    "    return new_nodes\n"
   ]
  },
  {
   "cell_type": "code",
   "execution_count": 26,
   "metadata": {},
   "outputs": [
    {
     "name": "stdout",
     "output_type": "stream",
     "text": [
      "========\n",
      "  5\n",
      "  4\n",
      "  3\n",
      "  2\n",
      "  1\n",
      "======== tot elems 5\n"
     ]
    }
   ],
   "source": [
    "ll.print()"
   ]
  },
  {
   "cell_type": "code",
   "execution_count": 31,
   "metadata": {},
   "outputs": [
    {
     "name": "stdout",
     "output_type": "stream",
     "text": [
      "========\n",
      "  5\n",
      "  4\n",
      "  3\n",
      "  2\n",
      "  1\n",
      "======== tot elems 5\n"
     ]
    }
   ],
   "source": [
    "ll.print()"
   ]
  },
  {
   "cell_type": "markdown",
   "metadata": {},
   "source": [
    "# tips\n",
    "\n",
    "* learn to put things to paper"
   ]
  },
  {
   "cell_type": "code",
   "execution_count": 33,
   "metadata": {},
   "outputs": [
    {
     "name": "stdout",
     "output_type": "stream",
     "text": [
      "[4, 1, 2, 3] \t\t\t\t--> [4, 3, 2, 1]\n",
      "[4, 6, 7, 2, 9, 1, 2, 3] \t\t--> [9, 7, 6, 4, 3, 2, 2, 1]\n"
     ]
    }
   ],
   "source": [
    "def merge_sort(mylist):\n",
    "    l = len(mylist)\n",
    "    if l <= 1:\n",
    "        return mylist\n",
    "    l1 = merge_sort(mylist[:int(l/2)])\n",
    "    l2 = merge_sort(mylist[int(l/2):])\n",
    "    new_list = []\n",
    "    while l1 and l2:\n",
    "        if l1[0] > l2[0]:\n",
    "            new_list.append(l1[0])\n",
    "            del l1[0]\n",
    "        else:\n",
    "            new_list.append(l2[0])\n",
    "            del l2[0]\n",
    "    if len(l1) == 0:\n",
    "        l1 = l2\n",
    "        del l2\n",
    "    while l1:\n",
    "        new_list.append(l1[0])\n",
    "        del l1[0]\n",
    "    return new_list\n",
    "\n",
    "mylist = [4, 1, 2, 3]\n",
    "print(mylist, \"\\t\\t\\t\\t-->\", merge_sort(mylist))\n",
    "mylist = [4, 6, 7, 2, 9, 1, 2, 3]\n",
    "print(mylist, \"\\t\\t-->\", merge_sort(mylist))\n",
    "del mylist"
   ]
  },
  {
   "cell_type": "code",
   "execution_count": 35,
   "metadata": {},
   "outputs": [
    {
     "name": "stdout",
     "output_type": "stream",
     "text": [
      "========\n",
      "  2\n",
      "  5\n",
      "  3\n",
      "  4\n",
      "  1\n",
      "======== tot elems 5\n"
     ]
    }
   ],
   "source": [
    "ll = LinkedList()\n",
    "\n",
    "ll.append(2)\n",
    "ll.append(5)\n",
    "ll.append(3)\n",
    "ll.append(4)\n",
    "ll.append(1)\n",
    "\n",
    "ll.print()"
   ]
  },
  {
   "cell_type": "code",
   "execution_count": null,
   "metadata": {
    "collapsed": true
   },
   "outputs": [],
   "source": []
  },
  {
   "cell_type": "code",
   "execution_count": null,
   "metadata": {
    "collapsed": true
   },
   "outputs": [],
   "source": []
  },
  {
   "cell_type": "code",
   "execution_count": null,
   "metadata": {
    "collapsed": true
   },
   "outputs": [],
   "source": []
  }
 ],
 "metadata": {
  "kernelspec": {
   "display_name": "Python 3",
   "language": "python",
   "name": "python3"
  },
  "language_info": {
   "codemirror_mode": {
    "name": "ipython",
    "version": 3
   },
   "file_extension": ".py",
   "mimetype": "text/x-python",
   "name": "python",
   "nbconvert_exporter": "python",
   "pygments_lexer": "ipython3",
   "version": "3.6.1"
  }
 },
 "nbformat": 4,
 "nbformat_minor": 2
}
